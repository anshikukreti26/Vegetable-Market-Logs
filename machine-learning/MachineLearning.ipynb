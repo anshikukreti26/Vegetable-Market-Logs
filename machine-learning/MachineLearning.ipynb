{
 "cells": [
  {
   "cell_type": "code",
   "execution_count": null,
   "id": "1b70d8a9",
   "metadata": {},
   "outputs": [],
   "source": [
    "import pandas as pd\n",
    "from sklearn.model_selection import train_test_split\n",
    "from sklearn.linear_model import LinearRegression\n",
    "import joblib"
   ]
  },
  {
   "cell_type": "code",
   "execution_count": null,
   "id": "89ff6bc1",
   "metadata": {},
   "outputs": [],
   "source": [
    "# Load dataset\n",
    "data = pd.read_csv('dataset.csv')"
   ]
  },
  {
   "cell_type": "code",
   "execution_count": null,
   "id": "cd9599a5",
   "metadata": {},
   "outputs": [],
   "source": [
    "X = data[['Commodity']]\n",
    "y = data['Average']  # Predicting the average price"
   ]
  },
  {
   "cell_type": "code",
   "execution_count": null,
   "id": "58b9bb7c",
   "metadata": {},
   "outputs": [],
   "source": [
    "# Encode the 'Commodity' column using one-hot encoding\n",
    "X_encoded = pd.get_dummies(X, columns=['Commodity'], drop_first=True)"
   ]
  },
  {
   "cell_type": "code",
   "execution_count": null,
   "id": "3525e484",
   "metadata": {},
   "outputs": [],
   "source": [
    "# Split the data into training and testing sets\n",
    "X_train, X_test, y_train, y_test = train_test_split(X_encoded, y, test_size=0.2, random_state=42)"
   ]
  },
  {
   "cell_type": "code",
   "execution_count": null,
   "id": "023f58a4",
   "metadata": {},
   "outputs": [],
   "source": [
    "# Create a linear regression model\n",
    "model = LinearRegression()"
   ]
  },
  {
   "cell_type": "code",
   "execution_count": null,
   "id": "68fb9100",
   "metadata": {},
   "outputs": [],
   "source": [
    "# Fit the model on the training data\n",
    "model.fit(X_train, y_train)"
   ]
  },
  {
   "cell_type": "code",
   "execution_count": null,
   "id": "1d83aa26",
   "metadata": {},
   "outputs": [],
   "source": [
    "joblib.dump(model, 'trained_model.joblib')"
   ]
  },
  {
   "cell_type": "code",
   "execution_count": null,
   "id": "5df82b2f",
   "metadata": {},
   "outputs": [],
   "source": [
    "# Predict the price for new data \n",
    "vegetable_name = \"Onion Green\""
   ]
  },
  {
   "cell_type": "code",
   "execution_count": null,
   "id": "4880d7e6",
   "metadata": {},
   "outputs": [],
   "source": [
    "# Create a DataFrame with the same columns as X_encoded\n",
    "input_data_encoded = pd.DataFrame(columns=X_encoded.columns)"
   ]
  },
  {
   "cell_type": "code",
   "execution_count": null,
   "id": "3230e222",
   "metadata": {},
   "outputs": [],
   "source": [
    "# Set the value to 1 for the commodity you're predicting\n",
    "input_data_encoded.loc[0, f'Commodity_{vegetable_name}'] = 1"
   ]
  },
  {
   "cell_type": "code",
   "execution_count": null,
   "id": "da50633d",
   "metadata": {},
   "outputs": [],
   "source": [
    "# Ensure that the input data does not contain missing values\n",
    "input_data_encoded.fillna(0, inplace=True)"
   ]
  },
  {
   "cell_type": "code",
   "execution_count": null,
   "id": "b2a6426f",
   "metadata": {},
   "outputs": [],
   "source": [
    "# Predict the price\n",
    "predicted_price = model.predict(input_data_encoded)\n",
    "print(f\"Predicted average price of {vegetable_name} is: {predicted_price[0]:.2f}\")"
   ]
  },
  {
   "cell_type": "code",
   "execution_count": null,
   "id": "41ffe9c7",
   "metadata": {},
   "outputs": [],
   "source": []
  }
 ],
 "metadata": {
  "kernelspec": {
   "display_name": "Python 3 (ipykernel)",
   "language": "python",
   "name": "python3"
  },
  "language_info": {
   "codemirror_mode": {
    "name": "ipython",
    "version": 3
   },
   "file_extension": ".py",
   "mimetype": "text/x-python",
   "name": "python",
   "nbconvert_exporter": "python",
   "pygments_lexer": "ipython3",
   "version": "3.11.1"
  }
 },
 "nbformat": 4,
 "nbformat_minor": 5
}
